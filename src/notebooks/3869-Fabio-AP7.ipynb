{
 "cells": [
  {
   "cell_type": "markdown",
   "metadata": {},
   "source": [
    "# Configuração Inicial"
   ]
  },
  {
   "cell_type": "code",
   "execution_count": 1,
   "metadata": {},
   "outputs": [
    {
     "name": "stdout",
     "output_type": "stream",
     "text": [
      "Requirement already satisfied: scikit-learn in /home/fabio/venvs/my_venv/lib/python3.11/site-packages (from -r /home/fabio/Mestrado/Eng-Aprendizado-Maquina/requirements/requirements_ap7.txt (line 1)) (1.4.1.post1)\n",
      "Requirement already satisfied: flask in /home/fabio/venvs/my_venv/lib/python3.11/site-packages (from -r /home/fabio/Mestrado/Eng-Aprendizado-Maquina/requirements/requirements_ap7.txt (line 2)) (3.0.3)\n",
      "Requirement already satisfied: pandas in /home/fabio/venvs/my_venv/lib/python3.11/site-packages (from -r /home/fabio/Mestrado/Eng-Aprendizado-Maquina/requirements/requirements_ap7.txt (line 3)) (2.2.1)\n",
      "Requirement already satisfied: requests in /home/fabio/venvs/my_venv/lib/python3.11/site-packages (from -r /home/fabio/Mestrado/Eng-Aprendizado-Maquina/requirements/requirements_ap7.txt (line 4)) (2.31.0)\n",
      "Requirement already satisfied: numpy<2.0,>=1.19.5 in /home/fabio/venvs/my_venv/lib/python3.11/site-packages (from scikit-learn->-r /home/fabio/Mestrado/Eng-Aprendizado-Maquina/requirements/requirements_ap7.txt (line 1)) (1.26.4)\n",
      "Requirement already satisfied: scipy>=1.6.0 in /home/fabio/venvs/my_venv/lib/python3.11/site-packages (from scikit-learn->-r /home/fabio/Mestrado/Eng-Aprendizado-Maquina/requirements/requirements_ap7.txt (line 1)) (1.12.0)\n",
      "Requirement already satisfied: joblib>=1.2.0 in /home/fabio/venvs/my_venv/lib/python3.11/site-packages (from scikit-learn->-r /home/fabio/Mestrado/Eng-Aprendizado-Maquina/requirements/requirements_ap7.txt (line 1)) (1.3.2)\n",
      "Requirement already satisfied: threadpoolctl>=2.0.0 in /home/fabio/venvs/my_venv/lib/python3.11/site-packages (from scikit-learn->-r /home/fabio/Mestrado/Eng-Aprendizado-Maquina/requirements/requirements_ap7.txt (line 1)) (3.3.0)\n",
      "Requirement already satisfied: Werkzeug>=3.0.0 in /home/fabio/venvs/my_venv/lib/python3.11/site-packages (from flask->-r /home/fabio/Mestrado/Eng-Aprendizado-Maquina/requirements/requirements_ap7.txt (line 2)) (3.0.1)\n",
      "Requirement already satisfied: Jinja2>=3.1.2 in /home/fabio/venvs/my_venv/lib/python3.11/site-packages (from flask->-r /home/fabio/Mestrado/Eng-Aprendizado-Maquina/requirements/requirements_ap7.txt (line 2)) (3.1.3)\n",
      "Requirement already satisfied: itsdangerous>=2.1.2 in /home/fabio/venvs/my_venv/lib/python3.11/site-packages (from flask->-r /home/fabio/Mestrado/Eng-Aprendizado-Maquina/requirements/requirements_ap7.txt (line 2)) (2.1.2)\n",
      "Requirement already satisfied: click>=8.1.3 in /home/fabio/venvs/my_venv/lib/python3.11/site-packages (from flask->-r /home/fabio/Mestrado/Eng-Aprendizado-Maquina/requirements/requirements_ap7.txt (line 2)) (8.1.7)\n",
      "Requirement already satisfied: blinker>=1.6.2 in /home/fabio/venvs/my_venv/lib/python3.11/site-packages (from flask->-r /home/fabio/Mestrado/Eng-Aprendizado-Maquina/requirements/requirements_ap7.txt (line 2)) (1.7.0)\n",
      "Requirement already satisfied: python-dateutil>=2.8.2 in /home/fabio/venvs/my_venv/lib/python3.11/site-packages (from pandas->-r /home/fabio/Mestrado/Eng-Aprendizado-Maquina/requirements/requirements_ap7.txt (line 3)) (2.9.0.post0)\n",
      "Requirement already satisfied: pytz>=2020.1 in /home/fabio/venvs/my_venv/lib/python3.11/site-packages (from pandas->-r /home/fabio/Mestrado/Eng-Aprendizado-Maquina/requirements/requirements_ap7.txt (line 3)) (2024.1)\n",
      "Requirement already satisfied: tzdata>=2022.7 in /home/fabio/venvs/my_venv/lib/python3.11/site-packages (from pandas->-r /home/fabio/Mestrado/Eng-Aprendizado-Maquina/requirements/requirements_ap7.txt (line 3)) (2024.1)\n",
      "Requirement already satisfied: charset-normalizer<4,>=2 in /home/fabio/venvs/my_venv/lib/python3.11/site-packages (from requests->-r /home/fabio/Mestrado/Eng-Aprendizado-Maquina/requirements/requirements_ap7.txt (line 4)) (3.3.2)\n",
      "Requirement already satisfied: idna<4,>=2.5 in /home/fabio/venvs/my_venv/lib/python3.11/site-packages (from requests->-r /home/fabio/Mestrado/Eng-Aprendizado-Maquina/requirements/requirements_ap7.txt (line 4)) (3.6)\n",
      "Requirement already satisfied: urllib3<3,>=1.21.1 in /home/fabio/venvs/my_venv/lib/python3.11/site-packages (from requests->-r /home/fabio/Mestrado/Eng-Aprendizado-Maquina/requirements/requirements_ap7.txt (line 4)) (2.2.1)\n",
      "Requirement already satisfied: certifi>=2017.4.17 in /home/fabio/venvs/my_venv/lib/python3.11/site-packages (from requests->-r /home/fabio/Mestrado/Eng-Aprendizado-Maquina/requirements/requirements_ap7.txt (line 4)) (2024.2.2)\n",
      "Requirement already satisfied: MarkupSafe>=2.0 in /home/fabio/venvs/my_venv/lib/python3.11/site-packages (from Jinja2>=3.1.2->flask->-r /home/fabio/Mestrado/Eng-Aprendizado-Maquina/requirements/requirements_ap7.txt (line 2)) (2.1.5)\n",
      "Requirement already satisfied: six>=1.5 in /home/fabio/venvs/my_venv/lib/python3.11/site-packages (from python-dateutil>=2.8.2->pandas->-r /home/fabio/Mestrado/Eng-Aprendizado-Maquina/requirements/requirements_ap7.txt (line 3)) (1.16.0)\n"
     ]
    }
   ],
   "source": [
    "import pathlib\n",
    "import sys\n",
    "import os\n",
    "requirements_filename = 'requirements_ap7.txt'\n",
    "if str(pathlib.Path().resolve().name) == \"notebooks\":\n",
    "    root = str(pathlib.Path().resolve().parent.parent)+os.sep\n",
    "    sys.path.append(root)\n",
    "    requirements_path = root + 'requirements/'+requirements_filename\n",
    "else:\n",
    "    ! git clone --branch ap7 https://github.com/Fabio-Trindade/Eng-Aprendizado-Maquina.git\n",
    "    root = str(pathlib.Path().resolve())\n",
    "    src_path = root + '/Eng-Aprendizado-Maquina/'\n",
    "    requirements_path = src_path + 'requirements/'+requirements_filename\n",
    "    sys.path.append(root + '/Eng-Aprendizado-Maquina/')\n",
    "\n",
    "! pip install -r $requirements_path"
   ]
  },
  {
   "cell_type": "markdown",
   "metadata": {},
   "source": [
    "# Imports"
   ]
  },
  {
   "cell_type": "code",
   "execution_count": 2,
   "metadata": {},
   "outputs": [],
   "source": [
    "from src.utils.util_read_file import UtilReadFile\n",
    "from src.constants.KPaths import KPaths\n",
    "import pandas as pd\n",
    "import matplotlib.pyplot as plt\n",
    "from sklearn.model_selection import train_test_split, GridSearchCV\n",
    "import numpy as np\n",
    "from sklearn.model_selection import cross_val_score, cross_validate\n",
    "from sklearn import svm\n",
    "from sklearn.linear_model import LogisticRegression\n",
    "import pickle\n"
   ]
  },
  {
   "cell_type": "code",
   "execution_count": 3,
   "metadata": {},
   "outputs": [],
   "source": [
    "root = KPaths.path_root"
   ]
  },
  {
   "cell_type": "markdown",
   "metadata": {},
   "source": [
    "# Considerações Iniciais"
   ]
  },
  {
   "cell_type": "markdown",
   "metadata": {},
   "source": [
    "Assim como na [Atividade 6](https://github.com/Fabio-Trindade/Eng-Aprendizado-Maquina/blob/ap6/src/notebooks/3869-Fabio-AP6.ipynb), neste *notebook* a etapa de análise exploratória será feita de forma mais direta, uma vez que o passo a passo já foi feito na [Atividade 5](https://github.com/Fabio-Trindade/Eng-Aprendizado-Maquina/blob/ap5/src/notebooks/3869-Fabio-AP5.ipynb) para este mesmo *dataset* (*breastcancerwisconsin*). Além disso, será utilizado PCA com 15 componentes para transformar os dados, uma vez que esta configuração forneceu o melhor resultado nestas atividades anteriores."
   ]
  },
  {
   "cell_type": "markdown",
   "metadata": {},
   "source": [
    "# Criação e Manipulação do *dataset*"
   ]
  },
  {
   "cell_type": "markdown",
   "metadata": {},
   "source": [
    "## Remoção das Colunas Irrelevantes "
   ]
  },
  {
   "cell_type": "code",
   "execution_count": 4,
   "metadata": {},
   "outputs": [],
   "source": [
    "df = UtilReadFile.read_csv_with_pandas(root + '/datasets/breastcancerwisconsin.csv')\n",
    "df = df.drop(['id','Unnamed: 32'],axis=1)"
   ]
  },
  {
   "cell_type": "markdown",
   "metadata": {},
   "source": [
    "## Transformação da Coluna *Diagnosis*"
   ]
  },
  {
   "cell_type": "code",
   "execution_count": 5,
   "metadata": {},
   "outputs": [],
   "source": [
    "mapp = {'B':0,'M':1}\n",
    "df['diagnosis_bin'] = df['diagnosis'].map(mapp)"
   ]
  },
  {
   "cell_type": "code",
   "execution_count": 6,
   "metadata": {},
   "outputs": [
    {
     "data": {
      "text/html": [
       "<div>\n",
       "<style scoped>\n",
       "    .dataframe tbody tr th:only-of-type {\n",
       "        vertical-align: middle;\n",
       "    }\n",
       "\n",
       "    .dataframe tbody tr th {\n",
       "        vertical-align: top;\n",
       "    }\n",
       "\n",
       "    .dataframe thead th {\n",
       "        text-align: right;\n",
       "    }\n",
       "</style>\n",
       "<table border=\"1\" class=\"dataframe\">\n",
       "  <thead>\n",
       "    <tr style=\"text-align: right;\">\n",
       "      <th></th>\n",
       "      <th>diagnosis</th>\n",
       "      <th>radius_mean</th>\n",
       "      <th>texture_mean</th>\n",
       "      <th>perimeter_mean</th>\n",
       "      <th>area_mean</th>\n",
       "      <th>smoothness_mean</th>\n",
       "      <th>compactness_mean</th>\n",
       "      <th>concavity_mean</th>\n",
       "      <th>concave points_mean</th>\n",
       "      <th>symmetry_mean</th>\n",
       "      <th>...</th>\n",
       "      <th>texture_worst</th>\n",
       "      <th>perimeter_worst</th>\n",
       "      <th>area_worst</th>\n",
       "      <th>smoothness_worst</th>\n",
       "      <th>compactness_worst</th>\n",
       "      <th>concavity_worst</th>\n",
       "      <th>concave points_worst</th>\n",
       "      <th>symmetry_worst</th>\n",
       "      <th>fractal_dimension_worst</th>\n",
       "      <th>diagnosis_bin</th>\n",
       "    </tr>\n",
       "  </thead>\n",
       "  <tbody>\n",
       "    <tr>\n",
       "      <th>0</th>\n",
       "      <td>M</td>\n",
       "      <td>17.99</td>\n",
       "      <td>10.38</td>\n",
       "      <td>122.80</td>\n",
       "      <td>1001.0</td>\n",
       "      <td>0.11840</td>\n",
       "      <td>0.27760</td>\n",
       "      <td>0.3001</td>\n",
       "      <td>0.14710</td>\n",
       "      <td>0.2419</td>\n",
       "      <td>...</td>\n",
       "      <td>17.33</td>\n",
       "      <td>184.60</td>\n",
       "      <td>2019.0</td>\n",
       "      <td>0.1622</td>\n",
       "      <td>0.6656</td>\n",
       "      <td>0.7119</td>\n",
       "      <td>0.2654</td>\n",
       "      <td>0.4601</td>\n",
       "      <td>0.11890</td>\n",
       "      <td>1</td>\n",
       "    </tr>\n",
       "    <tr>\n",
       "      <th>1</th>\n",
       "      <td>M</td>\n",
       "      <td>20.57</td>\n",
       "      <td>17.77</td>\n",
       "      <td>132.90</td>\n",
       "      <td>1326.0</td>\n",
       "      <td>0.08474</td>\n",
       "      <td>0.07864</td>\n",
       "      <td>0.0869</td>\n",
       "      <td>0.07017</td>\n",
       "      <td>0.1812</td>\n",
       "      <td>...</td>\n",
       "      <td>23.41</td>\n",
       "      <td>158.80</td>\n",
       "      <td>1956.0</td>\n",
       "      <td>0.1238</td>\n",
       "      <td>0.1866</td>\n",
       "      <td>0.2416</td>\n",
       "      <td>0.1860</td>\n",
       "      <td>0.2750</td>\n",
       "      <td>0.08902</td>\n",
       "      <td>1</td>\n",
       "    </tr>\n",
       "    <tr>\n",
       "      <th>2</th>\n",
       "      <td>M</td>\n",
       "      <td>19.69</td>\n",
       "      <td>21.25</td>\n",
       "      <td>130.00</td>\n",
       "      <td>1203.0</td>\n",
       "      <td>0.10960</td>\n",
       "      <td>0.15990</td>\n",
       "      <td>0.1974</td>\n",
       "      <td>0.12790</td>\n",
       "      <td>0.2069</td>\n",
       "      <td>...</td>\n",
       "      <td>25.53</td>\n",
       "      <td>152.50</td>\n",
       "      <td>1709.0</td>\n",
       "      <td>0.1444</td>\n",
       "      <td>0.4245</td>\n",
       "      <td>0.4504</td>\n",
       "      <td>0.2430</td>\n",
       "      <td>0.3613</td>\n",
       "      <td>0.08758</td>\n",
       "      <td>1</td>\n",
       "    </tr>\n",
       "    <tr>\n",
       "      <th>3</th>\n",
       "      <td>M</td>\n",
       "      <td>11.42</td>\n",
       "      <td>20.38</td>\n",
       "      <td>77.58</td>\n",
       "      <td>386.1</td>\n",
       "      <td>0.14250</td>\n",
       "      <td>0.28390</td>\n",
       "      <td>0.2414</td>\n",
       "      <td>0.10520</td>\n",
       "      <td>0.2597</td>\n",
       "      <td>...</td>\n",
       "      <td>26.50</td>\n",
       "      <td>98.87</td>\n",
       "      <td>567.7</td>\n",
       "      <td>0.2098</td>\n",
       "      <td>0.8663</td>\n",
       "      <td>0.6869</td>\n",
       "      <td>0.2575</td>\n",
       "      <td>0.6638</td>\n",
       "      <td>0.17300</td>\n",
       "      <td>1</td>\n",
       "    </tr>\n",
       "    <tr>\n",
       "      <th>4</th>\n",
       "      <td>M</td>\n",
       "      <td>20.29</td>\n",
       "      <td>14.34</td>\n",
       "      <td>135.10</td>\n",
       "      <td>1297.0</td>\n",
       "      <td>0.10030</td>\n",
       "      <td>0.13280</td>\n",
       "      <td>0.1980</td>\n",
       "      <td>0.10430</td>\n",
       "      <td>0.1809</td>\n",
       "      <td>...</td>\n",
       "      <td>16.67</td>\n",
       "      <td>152.20</td>\n",
       "      <td>1575.0</td>\n",
       "      <td>0.1374</td>\n",
       "      <td>0.2050</td>\n",
       "      <td>0.4000</td>\n",
       "      <td>0.1625</td>\n",
       "      <td>0.2364</td>\n",
       "      <td>0.07678</td>\n",
       "      <td>1</td>\n",
       "    </tr>\n",
       "  </tbody>\n",
       "</table>\n",
       "<p>5 rows × 32 columns</p>\n",
       "</div>"
      ],
      "text/plain": [
       "  diagnosis  radius_mean  texture_mean  perimeter_mean  area_mean  \\\n",
       "0         M        17.99         10.38          122.80     1001.0   \n",
       "1         M        20.57         17.77          132.90     1326.0   \n",
       "2         M        19.69         21.25          130.00     1203.0   \n",
       "3         M        11.42         20.38           77.58      386.1   \n",
       "4         M        20.29         14.34          135.10     1297.0   \n",
       "\n",
       "   smoothness_mean  compactness_mean  concavity_mean  concave points_mean  \\\n",
       "0          0.11840           0.27760          0.3001              0.14710   \n",
       "1          0.08474           0.07864          0.0869              0.07017   \n",
       "2          0.10960           0.15990          0.1974              0.12790   \n",
       "3          0.14250           0.28390          0.2414              0.10520   \n",
       "4          0.10030           0.13280          0.1980              0.10430   \n",
       "\n",
       "   symmetry_mean  ...  texture_worst  perimeter_worst  area_worst  \\\n",
       "0         0.2419  ...          17.33           184.60      2019.0   \n",
       "1         0.1812  ...          23.41           158.80      1956.0   \n",
       "2         0.2069  ...          25.53           152.50      1709.0   \n",
       "3         0.2597  ...          26.50            98.87       567.7   \n",
       "4         0.1809  ...          16.67           152.20      1575.0   \n",
       "\n",
       "   smoothness_worst  compactness_worst  concavity_worst  concave points_worst  \\\n",
       "0            0.1622             0.6656           0.7119                0.2654   \n",
       "1            0.1238             0.1866           0.2416                0.1860   \n",
       "2            0.1444             0.4245           0.4504                0.2430   \n",
       "3            0.2098             0.8663           0.6869                0.2575   \n",
       "4            0.1374             0.2050           0.4000                0.1625   \n",
       "\n",
       "   symmetry_worst  fractal_dimension_worst  diagnosis_bin  \n",
       "0          0.4601                  0.11890              1  \n",
       "1          0.2750                  0.08902              1  \n",
       "2          0.3613                  0.08758              1  \n",
       "3          0.6638                  0.17300              1  \n",
       "4          0.2364                  0.07678              1  \n",
       "\n",
       "[5 rows x 32 columns]"
      ]
     },
     "execution_count": 6,
     "metadata": {},
     "output_type": "execute_result"
    }
   ],
   "source": [
    "df.head()"
   ]
  },
  {
   "cell_type": "markdown",
   "metadata": {},
   "source": [
    "## Definindo Colunas de *features* e *labels*"
   ]
  },
  {
   "cell_type": "code",
   "execution_count": 7,
   "metadata": {},
   "outputs": [],
   "source": [
    "feature_columns = list(set(df.columns)-set(['diagnosis','diagnosis_bin']))\n",
    "label_column = 'diagnosis_bin'"
   ]
  },
  {
   "cell_type": "markdown",
   "metadata": {},
   "source": [
    "## Aplicando PCA com 15 Componentes"
   ]
  },
  {
   "cell_type": "markdown",
   "metadata": {},
   "source": [
    "### Normalizando os Dados"
   ]
  },
  {
   "cell_type": "code",
   "execution_count": 8,
   "metadata": {},
   "outputs": [],
   "source": [
    "from sklearn.preprocessing import StandardScaler\n",
    "\n",
    "scaler = StandardScaler()\n",
    "df[feature_columns] = scaler.fit_transform(df[feature_columns])"
   ]
  },
  {
   "cell_type": "markdown",
   "metadata": {},
   "source": [
    "### Reduzindo a Dimensionalidade dos Dados"
   ]
  },
  {
   "cell_type": "code",
   "execution_count": 9,
   "metadata": {},
   "outputs": [],
   "source": [
    "from sklearn.decomposition import PCA\n",
    "\n",
    "pca = PCA(n_components=15)\n",
    "pca_df = pca.fit_transform(df[feature_columns])\n",
    "feature_columns = [f'PCA{i+1}' for i in range(15)]\n",
    "\n",
    "pca_df = pd.DataFrame(data=pca_df, columns=feature_columns)\n",
    "pca_df[label_column] = df[label_column]"
   ]
  },
  {
   "cell_type": "code",
   "execution_count": 10,
   "metadata": {},
   "outputs": [
    {
     "data": {
      "text/html": [
       "<div>\n",
       "<style scoped>\n",
       "    .dataframe tbody tr th:only-of-type {\n",
       "        vertical-align: middle;\n",
       "    }\n",
       "\n",
       "    .dataframe tbody tr th {\n",
       "        vertical-align: top;\n",
       "    }\n",
       "\n",
       "    .dataframe thead th {\n",
       "        text-align: right;\n",
       "    }\n",
       "</style>\n",
       "<table border=\"1\" class=\"dataframe\">\n",
       "  <thead>\n",
       "    <tr style=\"text-align: right;\">\n",
       "      <th></th>\n",
       "      <th>PCA1</th>\n",
       "      <th>PCA2</th>\n",
       "      <th>PCA3</th>\n",
       "      <th>PCA4</th>\n",
       "      <th>PCA5</th>\n",
       "      <th>PCA6</th>\n",
       "      <th>PCA7</th>\n",
       "      <th>PCA8</th>\n",
       "      <th>PCA9</th>\n",
       "      <th>PCA10</th>\n",
       "      <th>PCA11</th>\n",
       "      <th>PCA12</th>\n",
       "      <th>PCA13</th>\n",
       "      <th>PCA14</th>\n",
       "      <th>PCA15</th>\n",
       "      <th>diagnosis_bin</th>\n",
       "    </tr>\n",
       "  </thead>\n",
       "  <tbody>\n",
       "    <tr>\n",
       "      <th>0</th>\n",
       "      <td>9.192837</td>\n",
       "      <td>1.948583</td>\n",
       "      <td>-1.123166</td>\n",
       "      <td>3.633731</td>\n",
       "      <td>-1.195110</td>\n",
       "      <td>1.411424</td>\n",
       "      <td>2.159370</td>\n",
       "      <td>-0.398407</td>\n",
       "      <td>-0.157118</td>\n",
       "      <td>-0.877402</td>\n",
       "      <td>0.262955</td>\n",
       "      <td>-0.859014</td>\n",
       "      <td>0.103387</td>\n",
       "      <td>-0.690803</td>\n",
       "      <td>-0.601796</td>\n",
       "      <td>1</td>\n",
       "    </tr>\n",
       "    <tr>\n",
       "      <th>1</th>\n",
       "      <td>2.387802</td>\n",
       "      <td>-3.768172</td>\n",
       "      <td>-0.529293</td>\n",
       "      <td>1.118264</td>\n",
       "      <td>0.621775</td>\n",
       "      <td>0.028656</td>\n",
       "      <td>0.013358</td>\n",
       "      <td>0.240988</td>\n",
       "      <td>-0.711905</td>\n",
       "      <td>1.106995</td>\n",
       "      <td>0.813120</td>\n",
       "      <td>0.157923</td>\n",
       "      <td>-0.943529</td>\n",
       "      <td>-0.653476</td>\n",
       "      <td>0.008976</td>\n",
       "      <td>1</td>\n",
       "    </tr>\n",
       "    <tr>\n",
       "      <th>2</th>\n",
       "      <td>5.733896</td>\n",
       "      <td>-1.075174</td>\n",
       "      <td>-0.551748</td>\n",
       "      <td>0.912083</td>\n",
       "      <td>-0.177086</td>\n",
       "      <td>0.541452</td>\n",
       "      <td>-0.668166</td>\n",
       "      <td>0.097374</td>\n",
       "      <td>0.024066</td>\n",
       "      <td>0.454275</td>\n",
       "      <td>-0.605604</td>\n",
       "      <td>0.124387</td>\n",
       "      <td>-0.410627</td>\n",
       "      <td>0.016680</td>\n",
       "      <td>0.483420</td>\n",
       "      <td>1</td>\n",
       "    </tr>\n",
       "    <tr>\n",
       "      <th>3</th>\n",
       "      <td>7.122953</td>\n",
       "      <td>10.275589</td>\n",
       "      <td>-3.232790</td>\n",
       "      <td>0.152547</td>\n",
       "      <td>-2.960878</td>\n",
       "      <td>3.053422</td>\n",
       "      <td>1.429911</td>\n",
       "      <td>1.059565</td>\n",
       "      <td>-1.405440</td>\n",
       "      <td>-1.116975</td>\n",
       "      <td>-1.151513</td>\n",
       "      <td>1.011316</td>\n",
       "      <td>-0.933271</td>\n",
       "      <td>-0.487418</td>\n",
       "      <td>-0.168847</td>\n",
       "      <td>1</td>\n",
       "    </tr>\n",
       "    <tr>\n",
       "      <th>4</th>\n",
       "      <td>3.935302</td>\n",
       "      <td>-1.948072</td>\n",
       "      <td>1.389767</td>\n",
       "      <td>2.940639</td>\n",
       "      <td>0.546747</td>\n",
       "      <td>-1.226495</td>\n",
       "      <td>-0.936213</td>\n",
       "      <td>0.636376</td>\n",
       "      <td>-0.263805</td>\n",
       "      <td>0.377704</td>\n",
       "      <td>0.651360</td>\n",
       "      <td>-0.110515</td>\n",
       "      <td>0.387948</td>\n",
       "      <td>-0.539181</td>\n",
       "      <td>0.310320</td>\n",
       "      <td>1</td>\n",
       "    </tr>\n",
       "    <tr>\n",
       "      <th>...</th>\n",
       "      <td>...</td>\n",
       "      <td>...</td>\n",
       "      <td>...</td>\n",
       "      <td>...</td>\n",
       "      <td>...</td>\n",
       "      <td>...</td>\n",
       "      <td>...</td>\n",
       "      <td>...</td>\n",
       "      <td>...</td>\n",
       "      <td>...</td>\n",
       "      <td>...</td>\n",
       "      <td>...</td>\n",
       "      <td>...</td>\n",
       "      <td>...</td>\n",
       "      <td>...</td>\n",
       "      <td>...</td>\n",
       "    </tr>\n",
       "    <tr>\n",
       "      <th>564</th>\n",
       "      <td>6.439315</td>\n",
       "      <td>-3.576817</td>\n",
       "      <td>2.459487</td>\n",
       "      <td>1.177314</td>\n",
       "      <td>-0.074824</td>\n",
       "      <td>-2.375193</td>\n",
       "      <td>-0.596130</td>\n",
       "      <td>-0.035471</td>\n",
       "      <td>0.987929</td>\n",
       "      <td>0.256989</td>\n",
       "      <td>-0.062651</td>\n",
       "      <td>0.123342</td>\n",
       "      <td>-0.051723</td>\n",
       "      <td>-0.404291</td>\n",
       "      <td>0.652751</td>\n",
       "      <td>1</td>\n",
       "    </tr>\n",
       "    <tr>\n",
       "      <th>565</th>\n",
       "      <td>3.793382</td>\n",
       "      <td>-3.584048</td>\n",
       "      <td>2.088476</td>\n",
       "      <td>-2.506028</td>\n",
       "      <td>-0.510723</td>\n",
       "      <td>-0.246710</td>\n",
       "      <td>-0.716326</td>\n",
       "      <td>-1.113360</td>\n",
       "      <td>-0.105207</td>\n",
       "      <td>-0.108632</td>\n",
       "      <td>0.244804</td>\n",
       "      <td>0.222753</td>\n",
       "      <td>-0.192637</td>\n",
       "      <td>0.015556</td>\n",
       "      <td>-0.069975</td>\n",
       "      <td>1</td>\n",
       "    </tr>\n",
       "    <tr>\n",
       "      <th>566</th>\n",
       "      <td>1.256179</td>\n",
       "      <td>-1.902297</td>\n",
       "      <td>0.562731</td>\n",
       "      <td>-2.089227</td>\n",
       "      <td>1.809991</td>\n",
       "      <td>-0.534447</td>\n",
       "      <td>-0.192758</td>\n",
       "      <td>0.341887</td>\n",
       "      <td>0.393917</td>\n",
       "      <td>0.520877</td>\n",
       "      <td>-0.840512</td>\n",
       "      <td>0.096473</td>\n",
       "      <td>0.157418</td>\n",
       "      <td>0.285691</td>\n",
       "      <td>0.090998</td>\n",
       "      <td>1</td>\n",
       "    </tr>\n",
       "    <tr>\n",
       "      <th>567</th>\n",
       "      <td>10.374794</td>\n",
       "      <td>1.672010</td>\n",
       "      <td>-1.877029</td>\n",
       "      <td>-2.356031</td>\n",
       "      <td>-0.033742</td>\n",
       "      <td>0.567936</td>\n",
       "      <td>0.223082</td>\n",
       "      <td>-0.280239</td>\n",
       "      <td>-0.542035</td>\n",
       "      <td>-0.089296</td>\n",
       "      <td>-0.178628</td>\n",
       "      <td>-0.697461</td>\n",
       "      <td>1.225195</td>\n",
       "      <td>0.218697</td>\n",
       "      <td>0.229590</td>\n",
       "      <td>1</td>\n",
       "    </tr>\n",
       "    <tr>\n",
       "      <th>568</th>\n",
       "      <td>-5.475243</td>\n",
       "      <td>-0.670637</td>\n",
       "      <td>1.490443</td>\n",
       "      <td>-2.299157</td>\n",
       "      <td>-0.184703</td>\n",
       "      <td>1.617837</td>\n",
       "      <td>1.698952</td>\n",
       "      <td>1.046354</td>\n",
       "      <td>0.374101</td>\n",
       "      <td>-0.047725</td>\n",
       "      <td>-0.144094</td>\n",
       "      <td>-0.179496</td>\n",
       "      <td>0.678898</td>\n",
       "      <td>-1.170725</td>\n",
       "      <td>0.217346</td>\n",
       "      <td>0</td>\n",
       "    </tr>\n",
       "  </tbody>\n",
       "</table>\n",
       "<p>569 rows × 16 columns</p>\n",
       "</div>"
      ],
      "text/plain": [
       "          PCA1       PCA2      PCA3      PCA4      PCA5      PCA6      PCA7  \\\n",
       "0     9.192837   1.948583 -1.123166  3.633731 -1.195110  1.411424  2.159370   \n",
       "1     2.387802  -3.768172 -0.529293  1.118264  0.621775  0.028656  0.013358   \n",
       "2     5.733896  -1.075174 -0.551748  0.912083 -0.177086  0.541452 -0.668166   \n",
       "3     7.122953  10.275589 -3.232790  0.152547 -2.960878  3.053422  1.429911   \n",
       "4     3.935302  -1.948072  1.389767  2.940639  0.546747 -1.226495 -0.936213   \n",
       "..         ...        ...       ...       ...       ...       ...       ...   \n",
       "564   6.439315  -3.576817  2.459487  1.177314 -0.074824 -2.375193 -0.596130   \n",
       "565   3.793382  -3.584048  2.088476 -2.506028 -0.510723 -0.246710 -0.716326   \n",
       "566   1.256179  -1.902297  0.562731 -2.089227  1.809991 -0.534447 -0.192758   \n",
       "567  10.374794   1.672010 -1.877029 -2.356031 -0.033742  0.567936  0.223082   \n",
       "568  -5.475243  -0.670637  1.490443 -2.299157 -0.184703  1.617837  1.698952   \n",
       "\n",
       "         PCA8      PCA9     PCA10     PCA11     PCA12     PCA13     PCA14  \\\n",
       "0   -0.398407 -0.157118 -0.877402  0.262955 -0.859014  0.103387 -0.690803   \n",
       "1    0.240988 -0.711905  1.106995  0.813120  0.157923 -0.943529 -0.653476   \n",
       "2    0.097374  0.024066  0.454275 -0.605604  0.124387 -0.410627  0.016680   \n",
       "3    1.059565 -1.405440 -1.116975 -1.151513  1.011316 -0.933271 -0.487418   \n",
       "4    0.636376 -0.263805  0.377704  0.651360 -0.110515  0.387948 -0.539181   \n",
       "..        ...       ...       ...       ...       ...       ...       ...   \n",
       "564 -0.035471  0.987929  0.256989 -0.062651  0.123342 -0.051723 -0.404291   \n",
       "565 -1.113360 -0.105207 -0.108632  0.244804  0.222753 -0.192637  0.015556   \n",
       "566  0.341887  0.393917  0.520877 -0.840512  0.096473  0.157418  0.285691   \n",
       "567 -0.280239 -0.542035 -0.089296 -0.178628 -0.697461  1.225195  0.218697   \n",
       "568  1.046354  0.374101 -0.047725 -0.144094 -0.179496  0.678898 -1.170725   \n",
       "\n",
       "        PCA15  diagnosis_bin  \n",
       "0   -0.601796              1  \n",
       "1    0.008976              1  \n",
       "2    0.483420              1  \n",
       "3   -0.168847              1  \n",
       "4    0.310320              1  \n",
       "..        ...            ...  \n",
       "564  0.652751              1  \n",
       "565 -0.069975              1  \n",
       "566  0.090998              1  \n",
       "567  0.229590              1  \n",
       "568  0.217346              0  \n",
       "\n",
       "[569 rows x 16 columns]"
      ]
     },
     "execution_count": 10,
     "metadata": {},
     "output_type": "execute_result"
    }
   ],
   "source": [
    "pca_df"
   ]
  },
  {
   "cell_type": "markdown",
   "metadata": {},
   "source": [
    "# Aplicação dos Algoritmos\n",
    "\n",
    "Para classificar a coluna *diagnosis*, serão utilizados os algoritmos *Logistic Regression* e *SVM* para treinar dois modelos. "
   ]
  },
  {
   "cell_type": "markdown",
   "metadata": {},
   "source": [
    "### Função de avaliação"
   ]
  },
  {
   "cell_type": "code",
   "execution_count": 11,
   "metadata": {},
   "outputs": [],
   "source": [
    "from sklearn.metrics import accuracy_score\n",
    "\n",
    "def evaluate(model,features,labels):\n",
    "    out = model.predict(features)\n",
    "    return accuracy_score(labels,out)"
   ]
  },
  {
   "cell_type": "markdown",
   "metadata": {},
   "source": [
    "### Funções de Treinamento"
   ]
  },
  {
   "cell_type": "code",
   "execution_count": 12,
   "metadata": {},
   "outputs": [],
   "source": [
    "def train_with_cross_validation(model,features,labels):\n",
    "    result = cross_validate(model, features, labels, cv=10,scoring='accuracy',return_estimator=True,return_train_score=True)\n",
    "    test_scores = result['test_score']\n",
    "    best_class = result['estimator'][np.argmax(test_scores)]\n",
    "    return test_scores,best_class\n",
    "\n",
    "def train_with_grid_search(model,params,features,labels):\n",
    "    grid_search = GridSearchCV(model, params, cv=10, scoring='accuracy')\n",
    "    return grid_search.fit(features, labels)"
   ]
  },
  {
   "cell_type": "markdown",
   "metadata": {},
   "source": [
    "## Separação dos Dados em Treino e Teste"
   ]
  },
  {
   "cell_type": "code",
   "execution_count": 13,
   "metadata": {},
   "outputs": [],
   "source": [
    "df_train, df_test = train_test_split(pca_df, test_size=0.2, random_state=42)\n",
    "df_train = df_train.reset_index().drop('index',axis=1)\n",
    "df_test = df_test.reset_index().drop('index',axis=1)"
   ]
  },
  {
   "cell_type": "code",
   "execution_count": 14,
   "metadata": {},
   "outputs": [
    {
     "data": {
      "text/html": [
       "<div>\n",
       "<style scoped>\n",
       "    .dataframe tbody tr th:only-of-type {\n",
       "        vertical-align: middle;\n",
       "    }\n",
       "\n",
       "    .dataframe tbody tr th {\n",
       "        vertical-align: top;\n",
       "    }\n",
       "\n",
       "    .dataframe thead th {\n",
       "        text-align: right;\n",
       "    }\n",
       "</style>\n",
       "<table border=\"1\" class=\"dataframe\">\n",
       "  <thead>\n",
       "    <tr style=\"text-align: right;\">\n",
       "      <th></th>\n",
       "      <th>PCA1</th>\n",
       "      <th>PCA2</th>\n",
       "      <th>PCA3</th>\n",
       "      <th>PCA4</th>\n",
       "      <th>PCA5</th>\n",
       "      <th>PCA6</th>\n",
       "      <th>PCA7</th>\n",
       "      <th>PCA8</th>\n",
       "      <th>PCA9</th>\n",
       "      <th>PCA10</th>\n",
       "      <th>PCA11</th>\n",
       "      <th>PCA12</th>\n",
       "      <th>PCA13</th>\n",
       "      <th>PCA14</th>\n",
       "      <th>PCA15</th>\n",
       "      <th>diagnosis_bin</th>\n",
       "    </tr>\n",
       "  </thead>\n",
       "  <tbody>\n",
       "    <tr>\n",
       "      <th>0</th>\n",
       "      <td>-0.781190</td>\n",
       "      <td>0.652849</td>\n",
       "      <td>-0.643657</td>\n",
       "      <td>0.214468</td>\n",
       "      <td>-0.437680</td>\n",
       "      <td>-0.160489</td>\n",
       "      <td>0.187235</td>\n",
       "      <td>-0.068190</td>\n",
       "      <td>0.533758</td>\n",
       "      <td>0.189562</td>\n",
       "      <td>0.086236</td>\n",
       "      <td>-0.052929</td>\n",
       "      <td>0.075326</td>\n",
       "      <td>0.010613</td>\n",
       "      <td>0.097240</td>\n",
       "      <td>0</td>\n",
       "    </tr>\n",
       "    <tr>\n",
       "      <th>1</th>\n",
       "      <td>2.704596</td>\n",
       "      <td>-4.437142</td>\n",
       "      <td>0.307345</td>\n",
       "      <td>0.488693</td>\n",
       "      <td>0.372495</td>\n",
       "      <td>-0.291801</td>\n",
       "      <td>0.283493</td>\n",
       "      <td>0.086264</td>\n",
       "      <td>0.327155</td>\n",
       "      <td>0.033346</td>\n",
       "      <td>-0.429226</td>\n",
       "      <td>0.205136</td>\n",
       "      <td>-0.372151</td>\n",
       "      <td>-0.179519</td>\n",
       "      <td>-0.292029</td>\n",
       "      <td>1</td>\n",
       "    </tr>\n",
       "    <tr>\n",
       "      <th>2</th>\n",
       "      <td>1.432069</td>\n",
       "      <td>-1.049604</td>\n",
       "      <td>-1.262011</td>\n",
       "      <td>0.533189</td>\n",
       "      <td>-0.626697</td>\n",
       "      <td>-0.785916</td>\n",
       "      <td>-0.621555</td>\n",
       "      <td>-0.214944</td>\n",
       "      <td>0.669595</td>\n",
       "      <td>0.131060</td>\n",
       "      <td>0.107123</td>\n",
       "      <td>0.201035</td>\n",
       "      <td>0.446399</td>\n",
       "      <td>0.160282</td>\n",
       "      <td>0.418250</td>\n",
       "      <td>1</td>\n",
       "    </tr>\n",
       "    <tr>\n",
       "      <th>3</th>\n",
       "      <td>-0.915804</td>\n",
       "      <td>2.479013</td>\n",
       "      <td>0.362607</td>\n",
       "      <td>0.261967</td>\n",
       "      <td>0.138472</td>\n",
       "      <td>-0.991236</td>\n",
       "      <td>-0.051203</td>\n",
       "      <td>-0.093964</td>\n",
       "      <td>-0.626973</td>\n",
       "      <td>0.109568</td>\n",
       "      <td>0.197020</td>\n",
       "      <td>0.097849</td>\n",
       "      <td>0.334178</td>\n",
       "      <td>0.240527</td>\n",
       "      <td>-0.388024</td>\n",
       "      <td>0</td>\n",
       "    </tr>\n",
       "    <tr>\n",
       "      <th>4</th>\n",
       "      <td>-1.665475</td>\n",
       "      <td>2.389618</td>\n",
       "      <td>1.502249</td>\n",
       "      <td>0.875951</td>\n",
       "      <td>0.484546</td>\n",
       "      <td>-1.189518</td>\n",
       "      <td>-0.677755</td>\n",
       "      <td>-0.146643</td>\n",
       "      <td>-0.291648</td>\n",
       "      <td>0.102733</td>\n",
       "      <td>0.460337</td>\n",
       "      <td>-0.872408</td>\n",
       "      <td>0.133983</td>\n",
       "      <td>0.292088</td>\n",
       "      <td>-0.534175</td>\n",
       "      <td>0</td>\n",
       "    </tr>\n",
       "  </tbody>\n",
       "</table>\n",
       "</div>"
      ],
      "text/plain": [
       "       PCA1      PCA2      PCA3      PCA4      PCA5      PCA6      PCA7  \\\n",
       "0 -0.781190  0.652849 -0.643657  0.214468 -0.437680 -0.160489  0.187235   \n",
       "1  2.704596 -4.437142  0.307345  0.488693  0.372495 -0.291801  0.283493   \n",
       "2  1.432069 -1.049604 -1.262011  0.533189 -0.626697 -0.785916 -0.621555   \n",
       "3 -0.915804  2.479013  0.362607  0.261967  0.138472 -0.991236 -0.051203   \n",
       "4 -1.665475  2.389618  1.502249  0.875951  0.484546 -1.189518 -0.677755   \n",
       "\n",
       "       PCA8      PCA9     PCA10     PCA11     PCA12     PCA13     PCA14  \\\n",
       "0 -0.068190  0.533758  0.189562  0.086236 -0.052929  0.075326  0.010613   \n",
       "1  0.086264  0.327155  0.033346 -0.429226  0.205136 -0.372151 -0.179519   \n",
       "2 -0.214944  0.669595  0.131060  0.107123  0.201035  0.446399  0.160282   \n",
       "3 -0.093964 -0.626973  0.109568  0.197020  0.097849  0.334178  0.240527   \n",
       "4 -0.146643 -0.291648  0.102733  0.460337 -0.872408  0.133983  0.292088   \n",
       "\n",
       "      PCA15  diagnosis_bin  \n",
       "0  0.097240              0  \n",
       "1 -0.292029              1  \n",
       "2  0.418250              1  \n",
       "3 -0.388024              0  \n",
       "4 -0.534175              0  "
      ]
     },
     "execution_count": 14,
     "metadata": {},
     "output_type": "execute_result"
    }
   ],
   "source": [
    "df_test.head()"
   ]
  },
  {
   "cell_type": "code",
   "execution_count": 15,
   "metadata": {},
   "outputs": [
    {
     "data": {
      "text/html": [
       "<div>\n",
       "<style scoped>\n",
       "    .dataframe tbody tr th:only-of-type {\n",
       "        vertical-align: middle;\n",
       "    }\n",
       "\n",
       "    .dataframe tbody tr th {\n",
       "        vertical-align: top;\n",
       "    }\n",
       "\n",
       "    .dataframe thead th {\n",
       "        text-align: right;\n",
       "    }\n",
       "</style>\n",
       "<table border=\"1\" class=\"dataframe\">\n",
       "  <thead>\n",
       "    <tr style=\"text-align: right;\">\n",
       "      <th></th>\n",
       "      <th>PCA1</th>\n",
       "      <th>PCA2</th>\n",
       "      <th>PCA3</th>\n",
       "      <th>PCA4</th>\n",
       "      <th>PCA5</th>\n",
       "      <th>PCA6</th>\n",
       "      <th>PCA7</th>\n",
       "      <th>PCA8</th>\n",
       "      <th>PCA9</th>\n",
       "      <th>PCA10</th>\n",
       "      <th>PCA11</th>\n",
       "      <th>PCA12</th>\n",
       "      <th>PCA13</th>\n",
       "      <th>PCA14</th>\n",
       "      <th>PCA15</th>\n",
       "      <th>diagnosis_bin</th>\n",
       "    </tr>\n",
       "  </thead>\n",
       "  <tbody>\n",
       "    <tr>\n",
       "      <th>0</th>\n",
       "      <td>-0.781190</td>\n",
       "      <td>0.652849</td>\n",
       "      <td>-0.643657</td>\n",
       "      <td>0.214468</td>\n",
       "      <td>-0.437680</td>\n",
       "      <td>-0.160489</td>\n",
       "      <td>0.187235</td>\n",
       "      <td>-0.068190</td>\n",
       "      <td>0.533758</td>\n",
       "      <td>0.189562</td>\n",
       "      <td>0.086236</td>\n",
       "      <td>-0.052929</td>\n",
       "      <td>0.075326</td>\n",
       "      <td>0.010613</td>\n",
       "      <td>0.097240</td>\n",
       "      <td>0</td>\n",
       "    </tr>\n",
       "    <tr>\n",
       "      <th>1</th>\n",
       "      <td>2.704596</td>\n",
       "      <td>-4.437142</td>\n",
       "      <td>0.307345</td>\n",
       "      <td>0.488693</td>\n",
       "      <td>0.372495</td>\n",
       "      <td>-0.291801</td>\n",
       "      <td>0.283493</td>\n",
       "      <td>0.086264</td>\n",
       "      <td>0.327155</td>\n",
       "      <td>0.033346</td>\n",
       "      <td>-0.429226</td>\n",
       "      <td>0.205136</td>\n",
       "      <td>-0.372151</td>\n",
       "      <td>-0.179519</td>\n",
       "      <td>-0.292029</td>\n",
       "      <td>1</td>\n",
       "    </tr>\n",
       "    <tr>\n",
       "      <th>2</th>\n",
       "      <td>1.432069</td>\n",
       "      <td>-1.049604</td>\n",
       "      <td>-1.262011</td>\n",
       "      <td>0.533189</td>\n",
       "      <td>-0.626697</td>\n",
       "      <td>-0.785916</td>\n",
       "      <td>-0.621555</td>\n",
       "      <td>-0.214944</td>\n",
       "      <td>0.669595</td>\n",
       "      <td>0.131060</td>\n",
       "      <td>0.107123</td>\n",
       "      <td>0.201035</td>\n",
       "      <td>0.446399</td>\n",
       "      <td>0.160282</td>\n",
       "      <td>0.418250</td>\n",
       "      <td>1</td>\n",
       "    </tr>\n",
       "    <tr>\n",
       "      <th>3</th>\n",
       "      <td>-0.915804</td>\n",
       "      <td>2.479013</td>\n",
       "      <td>0.362607</td>\n",
       "      <td>0.261967</td>\n",
       "      <td>0.138472</td>\n",
       "      <td>-0.991236</td>\n",
       "      <td>-0.051203</td>\n",
       "      <td>-0.093964</td>\n",
       "      <td>-0.626973</td>\n",
       "      <td>0.109568</td>\n",
       "      <td>0.197020</td>\n",
       "      <td>0.097849</td>\n",
       "      <td>0.334178</td>\n",
       "      <td>0.240527</td>\n",
       "      <td>-0.388024</td>\n",
       "      <td>0</td>\n",
       "    </tr>\n",
       "    <tr>\n",
       "      <th>4</th>\n",
       "      <td>-1.665475</td>\n",
       "      <td>2.389618</td>\n",
       "      <td>1.502249</td>\n",
       "      <td>0.875951</td>\n",
       "      <td>0.484546</td>\n",
       "      <td>-1.189518</td>\n",
       "      <td>-0.677755</td>\n",
       "      <td>-0.146643</td>\n",
       "      <td>-0.291648</td>\n",
       "      <td>0.102733</td>\n",
       "      <td>0.460337</td>\n",
       "      <td>-0.872408</td>\n",
       "      <td>0.133983</td>\n",
       "      <td>0.292088</td>\n",
       "      <td>-0.534175</td>\n",
       "      <td>0</td>\n",
       "    </tr>\n",
       "  </tbody>\n",
       "</table>\n",
       "</div>"
      ],
      "text/plain": [
       "       PCA1      PCA2      PCA3      PCA4      PCA5      PCA6      PCA7  \\\n",
       "0 -0.781190  0.652849 -0.643657  0.214468 -0.437680 -0.160489  0.187235   \n",
       "1  2.704596 -4.437142  0.307345  0.488693  0.372495 -0.291801  0.283493   \n",
       "2  1.432069 -1.049604 -1.262011  0.533189 -0.626697 -0.785916 -0.621555   \n",
       "3 -0.915804  2.479013  0.362607  0.261967  0.138472 -0.991236 -0.051203   \n",
       "4 -1.665475  2.389618  1.502249  0.875951  0.484546 -1.189518 -0.677755   \n",
       "\n",
       "       PCA8      PCA9     PCA10     PCA11     PCA12     PCA13     PCA14  \\\n",
       "0 -0.068190  0.533758  0.189562  0.086236 -0.052929  0.075326  0.010613   \n",
       "1  0.086264  0.327155  0.033346 -0.429226  0.205136 -0.372151 -0.179519   \n",
       "2 -0.214944  0.669595  0.131060  0.107123  0.201035  0.446399  0.160282   \n",
       "3 -0.093964 -0.626973  0.109568  0.197020  0.097849  0.334178  0.240527   \n",
       "4 -0.146643 -0.291648  0.102733  0.460337 -0.872408  0.133983  0.292088   \n",
       "\n",
       "      PCA15  diagnosis_bin  \n",
       "0  0.097240              0  \n",
       "1 -0.292029              1  \n",
       "2  0.418250              1  \n",
       "3 -0.388024              0  \n",
       "4 -0.534175              0  "
      ]
     },
     "execution_count": 15,
     "metadata": {},
     "output_type": "execute_result"
    }
   ],
   "source": [
    "df_test.head()"
   ]
  },
  {
   "cell_type": "markdown",
   "metadata": {},
   "source": [
    "## Criação dos Algoritmos"
   ]
  },
  {
   "cell_type": "markdown",
   "metadata": {},
   "source": [
    "### Random Forest"
   ]
  },
  {
   "cell_type": "code",
   "execution_count": 16,
   "metadata": {},
   "outputs": [],
   "source": [
    "lr_class = LogisticRegression()"
   ]
  },
  {
   "cell_type": "markdown",
   "metadata": {},
   "source": [
    "### SVM"
   ]
  },
  {
   "cell_type": "code",
   "execution_count": 17,
   "metadata": {},
   "outputs": [],
   "source": [
    "class_svm = svm.SVC(kernel='linear')"
   ]
  },
  {
   "cell_type": "markdown",
   "metadata": {},
   "source": [
    "## Treinamento e Avaliação dos Modelos"
   ]
  },
  {
   "cell_type": "markdown",
   "metadata": {},
   "source": [
    "### Logistic Regression"
   ]
  },
  {
   "cell_type": "markdown",
   "metadata": {},
   "source": [
    "#### Treinamento com Validação Cruzada\n"
   ]
  },
  {
   "cell_type": "code",
   "execution_count": 18,
   "metadata": {},
   "outputs": [],
   "source": [
    "scores, lr_class = train_with_cross_validation(lr_class,df_train[feature_columns],df_train[label_column])"
   ]
  },
  {
   "cell_type": "code",
   "execution_count": 19,
   "metadata": {},
   "outputs": [
    {
     "name": "stdout",
     "output_type": "stream",
     "text": [
      "Scores [0.97826087 0.97826087 0.97826087 0.93478261 1.         1.\n",
      " 0.97777778 0.97777778 0.95555556 0.97777778]\n",
      "Média dos scores: 0.9758454106280194\n"
     ]
    }
   ],
   "source": [
    "print(\"Scores\", scores)\n",
    "print(\"Média dos scores:\", scores.mean())"
   ]
  },
  {
   "cell_type": "markdown",
   "metadata": {},
   "source": [
    "#### Avaliação"
   ]
  },
  {
   "cell_type": "code",
   "execution_count": 20,
   "metadata": {},
   "outputs": [
    {
     "data": {
      "text/plain": [
       "0.9912280701754386"
      ]
     },
     "execution_count": 20,
     "metadata": {},
     "output_type": "execute_result"
    }
   ],
   "source": [
    "evaluate(lr_class,df_test[feature_columns],df_test[label_column])"
   ]
  },
  {
   "cell_type": "markdown",
   "metadata": {},
   "source": [
    "### SVM"
   ]
  },
  {
   "cell_type": "markdown",
   "metadata": {},
   "source": [
    "#### Treinamento com Validação Cruzada"
   ]
  },
  {
   "cell_type": "code",
   "execution_count": 21,
   "metadata": {},
   "outputs": [],
   "source": [
    "scores, class_svm = train_with_cross_validation(class_svm,df_train[feature_columns],df_train[label_column])"
   ]
  },
  {
   "cell_type": "code",
   "execution_count": 22,
   "metadata": {},
   "outputs": [
    {
     "name": "stdout",
     "output_type": "stream",
     "text": [
      "Scores [0.97826087 0.97826087 0.97826087 0.93478261 1.         1.\n",
      " 0.97777778 0.97777778 0.93333333 0.97777778]\n",
      "Média dos scores: 0.9736231884057972\n"
     ]
    }
   ],
   "source": [
    "print(\"Scores\", scores)\n",
    "print(\"Média dos scores:\", scores.mean())"
   ]
  },
  {
   "cell_type": "markdown",
   "metadata": {},
   "source": [
    "### Avaliação"
   ]
  },
  {
   "cell_type": "code",
   "execution_count": 23,
   "metadata": {},
   "outputs": [
    {
     "data": {
      "text/plain": [
       "0.9912280701754386"
      ]
     },
     "execution_count": 23,
     "metadata": {},
     "output_type": "execute_result"
    }
   ],
   "source": [
    "evaluate(class_svm,df_test[feature_columns],df_test[label_column])"
   ]
  },
  {
   "cell_type": "markdown",
   "metadata": {},
   "source": [
    "### Ajuste de Hiper-parâmetros\n",
    "\n",
    "Abaixo é utilizado o método Grid Search para ajustar os hiper-parâmetros."
   ]
  },
  {
   "cell_type": "markdown",
   "metadata": {},
   "source": [
    "#### Logistic Regression - Grid Search"
   ]
  },
  {
   "cell_type": "code",
   "execution_count": 24,
   "metadata": {},
   "outputs": [
    {
     "name": "stdout",
     "output_type": "stream",
     "text": [
      "Melhor parâmetro: {'C': 1}\n",
      "Acurácia nos dados de teste 0.9912280701754386\n"
     ]
    }
   ],
   "source": [
    "gs_lr = train_with_grid_search(LogisticRegression(penalty='l2'),  {'C': [0.1, 1, 10, 50],},df_train[feature_columns], df_train[label_column]) \n",
    "print(\"Melhor parâmetro:\", gs_lr.best_params_)\n",
    "print(\"Acurácia nos dados de teste\", gs_lr.score(df_test[feature_columns], df_test[label_column]))"
   ]
  },
  {
   "cell_type": "markdown",
   "metadata": {},
   "source": [
    "#### SVM - Grid Search"
   ]
  },
  {
   "cell_type": "code",
   "execution_count": 25,
   "metadata": {},
   "outputs": [
    {
     "name": "stdout",
     "output_type": "stream",
     "text": [
      "Melhor parâmetro: {'C': 0.1, 'gamma': 0.001, 'kernel': 'linear'}\n",
      "Acurácia nos dados de teste 0.9824561403508771\n"
     ]
    }
   ],
   "source": [
    "gs_lr = train_with_grid_search(svm.SVC(),  {'C': [0.1, 1, 10, 50],\n",
    "              'gamma': [0.001, 0.01, 0.1, 1],\n",
    "              'kernel': ['linear', 'rbf', 'poly']},df_train[feature_columns], df_train[label_column]) \n",
    "print(\"Melhor parâmetro:\", gs_lr.best_params_)\n",
    "print(\"Acurácia nos dados de teste\", gs_lr.score(df_test[feature_columns], df_test[label_column]))"
   ]
  },
  {
   "cell_type": "markdown",
   "metadata": {},
   "source": [
    "### Conclusão\n",
    "\n",
    "Apesar da acurácia para o modelo treinado pelo algortimo Logistc Regression continuar a mesma, a acurácia do modelo treinado pelo SVM diminuiu suavemente. Ambos os modelos obtiveram o mesmo resultado levando em consideração o melhor resultado, portanto, o SVM na sua melhor configuração foi escolhido para ser persisitido e implantado em um servidor da AWS."
   ]
  },
  {
   "cell_type": "markdown",
   "metadata": {},
   "source": [
    "# Salvando PCA, Scaler e Modelo"
   ]
  },
  {
   "cell_type": "code",
   "execution_count": 26,
   "metadata": {},
   "outputs": [],
   "source": [
    "with open(root+'/checkpoints/svm.pkl', 'wb') as f:\n",
    "    pickle.dump(class_svm, f)\n",
    "\n",
    "with open(root+'/checkpoints/pca.pkl', 'wb') as f:\n",
    "    pickle.dump(pca, f)\n",
    "\n",
    "with open(root+'/checkpoints/scaler.pkl', 'wb') as f:\n",
    "    pickle.dump(scaler, f)"
   ]
  }
 ],
 "metadata": {
  "kernelspec": {
   "display_name": "my_venv",
   "language": "python",
   "name": "python3"
  },
  "language_info": {
   "codemirror_mode": {
    "name": "ipython",
    "version": 3
   },
   "file_extension": ".py",
   "mimetype": "text/x-python",
   "name": "python",
   "nbconvert_exporter": "python",
   "pygments_lexer": "ipython3",
   "version": "3.11.6"
  }
 },
 "nbformat": 4,
 "nbformat_minor": 2
}
